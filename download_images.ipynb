{
 "cells": [
  {
   "cell_type": "code",
   "execution_count": 5,
   "metadata": {},
   "outputs": [
    {
     "name": "stdout",
     "output_type": "stream",
     "text": [
      "2\n",
      "035_51158_08.json\n"
     ]
    }
   ],
   "source": [
    "import json\n",
    "import base64\n",
    "import numpy as np\n",
    "import cv2\n",
    "from PIL import Image\n",
    "import io\n",
    "import os\n",
    "import shutil\n",
    "\n",
    "path ='C:/Users/user/Music/nulls'\n",
    "image_path = 'C:/Users/user/Music/imgnull'\n",
    "null_files = 'C:/Users/user/Music/nulljsons'\n",
    "os.makedirs(image_path, exist_ok=True)\n",
    "os.makedirs(null_files, exist_ok=True)\n",
    "\n",
    "jsons = [x for x in os.listdir(path) if os.path.splitext(x)[-1] == '.json']\n",
    "print(len(jsons))\n",
    "print(jsons[0])\n",
    "\n",
    "for j in jsons:\n",
    "        # print(j)\n",
    "    json_name = os.path.splitext(os.path.basename(j))[0]\n",
    "\n",
    "    # Load the JSON file\n",
    "    with open(os.path.join(path,j), 'r', encoding='utf8') as f:\n",
    "        data = json.load(f)\n",
    "       \n",
    "\n",
    "    # Decode the image data\n",
    "    if data['imageData'] != None:\n",
    "        image_data = data['imageData'].encode('utf-8')\n",
    "        image = Image.open(io.BytesIO(base64.b64decode(image_data)))\n",
    "\n",
    "        # Save the image as a PNG file\n",
    "        image.save(f\"{image_path}/{json_name}.jpg\", quality=100)\n",
    "    else:\n",
    "        shutil.copy(path+'/'+j, null_files + '/'+j)\n",
    "        "
   ]
  },
  {
   "cell_type": "code",
   "execution_count": null,
   "metadata": {},
   "outputs": [],
   "source": []
  }
 ],
 "metadata": {
  "kernelspec": {
   "display_name": "pt113",
   "language": "python",
   "name": "python3"
  },
  "language_info": {
   "codemirror_mode": {
    "name": "ipython",
    "version": 3
   },
   "file_extension": ".py",
   "mimetype": "text/x-python",
   "name": "python",
   "nbconvert_exporter": "python",
   "pygments_lexer": "ipython3",
   "version": "3.9.13"
  },
  "orig_nbformat": 4,
  "vscode": {
   "interpreter": {
    "hash": "ad402bf96bfc9e36d11da6be7c0130ff64f8890678c1f7924c5c0a7337229131"
   }
  }
 },
 "nbformat": 4,
 "nbformat_minor": 2
}
